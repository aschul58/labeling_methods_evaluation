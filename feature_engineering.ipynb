{
 "cells": [
  {
   "cell_type": "code",
   "execution_count": 1,
   "id": "52c42d60",
   "metadata": {},
   "outputs": [],
   "source": [
    "def add_features(dictionary):\n",
    "    \"\"\"\n",
    "    This function adds various features to each DataFrame in the given dictionary. \n",
    "    The added features include:\n",
    "    - Percentage change of Bitcoin price over the last 5 periods ('Bitcoin_orientation')\n",
    "    - Percentage change of Ethereum price over the last 5 periods ('Ethereum_orientation')\n",
    "    - Percentage change of the cryptocurrency price over the previous period ('Previous_period_change')\n",
    "    - Rolling standard deviation of the percentage change (volatility) over the last 5 periods ('Volatility')\n",
    "    \n",
    "    Parameters:\n",
    "    dictionary (dict): A dictionary where keys are cryptocurrency names and values are DataFrames containing price data for each currency.\n",
    "    \n",
    "    Returns:\n",
    "    dict: The original dictionary with each DataFrame updated to include the new features.\n",
    "    \"\"\"\n",
    "    \n",
    "    # Calculate Bitcoin percentage change over the last 5 periods\n",
    "    bitcoin_df = dictionary['Bitcoin']\n",
    "    bitcoin_df['Bitcoin_orientation'] = bitcoin_df['Price'].pct_change(periods=5)\n",
    "    \n",
    "    # Calculate Ethereum percentage change over the last 5 periods\n",
    "    ethereum_df = dictionary['Ethereum']\n",
    "    ethereum_df['Ethereum_orientation'] = ethereum_df['Price'].pct_change(periods=5)\n",
    "\n",
    "    # Add features to each cryptocurrency DataFrame\n",
    "    for currency, df in dictionary.items():\n",
    "        # Calculate percentage change over the previous period\n",
    "        df['Previous_period_change'] = df['Price'].pct_change(periods=1)\n",
    "        # Add Bitcoin_orientation feature\n",
    "        df['Bitcoin_orientation'] = bitcoin_df['Bitcoin_orientation']\n",
    "        # Add Ethereum_orientation feature\n",
    "        df['Ethereum_orientation'] = ethereum_df['Ethereum_orientation']\n",
    "        # Calculate rolling standard deviation of percentage change (volatility) over the last 5 periods\n",
    "        df['Volatility'] = df['Price'].pct_change().rolling(window=5).std()\n",
    "    \n",
    "    return dictionary"
   ]
  }
 ],
 "metadata": {
  "kernelspec": {
   "display_name": "Python 3 (ipykernel)",
   "language": "python",
   "name": "python3"
  },
  "language_info": {
   "codemirror_mode": {
    "name": "ipython",
    "version": 3
   },
   "file_extension": ".py",
   "mimetype": "text/x-python",
   "name": "python",
   "nbconvert_exporter": "python",
   "pygments_lexer": "ipython3",
   "version": "3.8.19"
  }
 },
 "nbformat": 4,
 "nbformat_minor": 5
}
